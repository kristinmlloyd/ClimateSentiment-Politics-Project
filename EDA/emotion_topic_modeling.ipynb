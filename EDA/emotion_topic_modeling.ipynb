{
 "cells": [
  {
   "cell_type": "raw",
   "metadata": {
    "vscode": {
     "languageId": "raw"
    }
   },
   "source": [
    "---\n",
    "title: \"Creating Emotion / Topic Columns in Dataset\"\n",
    "author: \"Kristin Lloyd\"\n",
    "format: \n",
    "  html:\n",
    "    embed-resources: true\n",
    "    toc: true\n",
    "---"
   ]
  },
  {
   "cell_type": "code",
   "execution_count": 19,
   "metadata": {},
   "outputs": [],
   "source": [
    "import pandas as pd\n",
    "from transformers import AutoModelForSequenceClassification, AutoTokenizer, pipeline\n",
    "import torch\n",
    "from sklearn.feature_extraction.text import CountVectorizer\n",
    "from sklearn.decomposition import LatentDirichletAllocation"
   ]
  },
  {
   "cell_type": "code",
   "execution_count": 20,
   "metadata": {},
   "outputs": [],
   "source": [
    "df = pd.read_csv(\"../Data/processed-data/Senators_sentiment.csv\")"
   ]
  },
  {
   "cell_type": "markdown",
   "metadata": {},
   "source": [
    "We use a pre-trained RoBERTa model to classify emotions for each statement"
   ]
  },
  {
   "cell_type": "code",
   "execution_count": 21,
   "metadata": {},
   "outputs": [
    {
     "name": "stderr",
     "output_type": "stream",
     "text": [
      "Hardware accelerator e.g. GPU is available in the environment, but no `device` argument is passed to the `Pipeline` object. Model will be on CPU.\n"
     ]
    }
   ],
   "source": [
    "# Initialize pipeline\n",
    "model_name = \"SamLowe/roberta-base-go_emotions\"\n",
    "tokenizer = AutoTokenizer.from_pretrained(model_name)\n",
    "model = AutoModelForSequenceClassification.from_pretrained(model_name)\n",
    "\n",
    "emotion_pipeline = pipeline(\n",
    "    \"text-classification\",\n",
    "    model=model,\n",
    "    tokenizer=tokenizer,\n",
    "    padding=True,\n",
    "    truncation=True,\n",
    "    max_length=512\n",
    ")\n",
    "\n",
    "# Define the function for emotion detection\n",
    "def detect_emotion(text):\n",
    "    if isinstance(text, str) and len(text.strip()) > 0:\n",
    "        try:\n",
    "            result = emotion_pipeline(text)\n",
    "            return result[0]['label'], result[0]['score']\n",
    "        except IndexError:\n",
    "            return None, None\n",
    "    return None, None\n",
    "\n",
    "df[['emotion', 'confidence']] = df['message'].apply(lambda x: pd.Series(detect_emotion(x)))\n"
   ]
  },
  {
   "cell_type": "markdown",
   "metadata": {},
   "source": [
    "We use Latent Dirichlet Allocation (LDA) to identify dominant topics for each statement"
   ]
  },
  {
   "cell_type": "code",
   "execution_count": 22,
   "metadata": {},
   "outputs": [
    {
     "name": "stdout",
     "output_type": "stream",
     "text": [
      "Discovered Topics:\n",
      "Topic 0: climate, change, economy, energy, environment, planet, action, policy, protect, global\n",
      "Topic 1: deal, new, green, biden, drive, cost, choice, bank, consumer, car\n",
      "Topic 2: climate, change, act, energy, inflation, reduction, job, clean, economy, threat\n",
      "Topic 3: climate, change, action, global, opportunity, wont, thats, president, energy, im\n",
      "Topic 4: energy, climate, american, change, job, green, create, time, union, biden\n",
      "Topic 5: climate, change, real, solution, gas, problem, make, funding, action, trump\n",
      "Topic 6: climate, job, biden, change, american, today, policy, gas, emission, crisis\n",
      "Topic 7: climate, change, need, agreement, community, infrastructure, protect, economy, im, address\n",
      "Topic 8: climate, change, energy, crisis, impact, reduction, act, inflation, threat, american\n",
      "Topic 9: climate, change, administration, biden, policy, energy, people, wont, care, farmer\n",
      "Topic 10: climate, change, need, american, clean, energy, crisis, continue, country, tax\n",
      "Topic 11: energy, climate, change, american, clean, fuel, fossil, policy, new, democrat\n",
      "Topic 12: climate, change, future, clean, dont, new, energy, carbon, generation, come\n",
      "Topic 13: climate, change, energy, action, existential, american, planet, threat, like, clean\n",
      "Topic 14: climate, change, community, working, spending, farmer, environmental, security, american, effect\n"
     ]
    }
   ],
   "source": [
    "text_data = df['message'].dropna().astype(str)\n",
    "\n",
    "# Vectorize text data\n",
    "vectorizer = CountVectorizer(max_df=0.95, min_df=2, stop_words='english')\n",
    "text_vectors = vectorizer.fit_transform(text_data)\n",
    "\n",
    "# Fit LDA model\n",
    "num_topics = 15\n",
    "lda = LatentDirichletAllocation(n_components=num_topics, random_state=42)\n",
    "lda.fit(text_vectors)\n",
    "\n",
    "def get_top_words(model, feature_names, n_top_words):\n",
    "    topics = {}\n",
    "    for topic_idx, topic in enumerate(model.components_):\n",
    "        top_words = [feature_names[i] for i in topic.argsort()[:-n_top_words - 1:-1]]\n",
    "        topics[topic_idx] = ', '.join(top_words)\n",
    "    return topics\n",
    "\n",
    "n_top_words = 10\n",
    "feature_names = vectorizer.get_feature_names_out()\n",
    "topics = get_top_words(lda, feature_names, n_top_words)\n",
    "\n",
    "print(\"Discovered Topics:\")\n",
    "for topic_idx, words in topics.items():\n",
    "    print(f\"Topic {topic_idx}: {words}\")\n",
    "\n",
    "# Assign dominant topics\n",
    "topic_probabilities = lda.transform(text_vectors)\n",
    "topic_assignments = topic_probabilities.argmax(axis=1)\n",
    "topic_labels = [topics[topic_idx] for topic_idx in topic_assignments]\n",
    "\n",
    "filtered_df = df.loc[df['message'].notna()].copy()\n",
    "filtered_df['dominant_topic'] = topic_labels\n",
    "filtered_df['topic_probability'] = topic_probabilities.max(axis=1)\n",
    "\n",
    "df = pd.concat([df, filtered_df[['dominant_topic', 'topic_probability']]], axis=1)\n",
    "\n",
    "output_file = \"../Data/processed-data/Senators_final.csv\"\n",
    "df.to_csv(output_file, index=False)"
   ]
  },
  {
   "cell_type": "markdown",
   "metadata": {},
   "source": [
    "Now let's do it for newly elected President Donald Trump"
   ]
  },
  {
   "cell_type": "code",
   "execution_count": 6,
   "metadata": {},
   "outputs": [],
   "source": [
    "president_df = pd.read_csv(\"../Data/processed-data/President_sentiment.csv\")"
   ]
  },
  {
   "cell_type": "code",
   "execution_count": 7,
   "metadata": {},
   "outputs": [
    {
     "name": "stderr",
     "output_type": "stream",
     "text": [
      "Hardware accelerator e.g. GPU is available in the environment, but no `device` argument is passed to the `Pipeline` object. Model will be on CPU.\n"
     ]
    }
   ],
   "source": [
    "model_name = \"SamLowe/roberta-base-go_emotions\"\n",
    "tokenizer = AutoTokenizer.from_pretrained(model_name)\n",
    "model = AutoModelForSequenceClassification.from_pretrained(model_name)\n",
    "\n",
    "emotion_pipeline = pipeline(\n",
    "    \"text-classification\",\n",
    "    model=model,\n",
    "    tokenizer=tokenizer,\n",
    "    padding=True,          \n",
    "    truncation=True,       \n",
    "    max_length=512         \n",
    ")\n",
    "\n",
    "def detect_emotion(text):\n",
    "    if isinstance(text, str) and len(text.strip()) > 0:\n",
    "        try:\n",
    "            result = emotion_pipeline(text)\n",
    "            return result[0]['label'], result[0]['score']\n",
    "        except IndexError:\n",
    "            return None, None\n",
    "    return None, None\n",
    "\n",
    "president_df[['emotion', 'confidence']] = president_df['message'].apply(\n",
    "    lambda x: pd.Series(detect_emotion(x))\n",
    ")"
   ]
  },
  {
   "cell_type": "code",
   "execution_count": 8,
   "metadata": {},
   "outputs": [
    {
     "name": "stdout",
     "output_type": "stream",
     "text": [
      "Discovered Topics:\n",
      "Topic 0: climate, warming, global, change, air, going, clean, nuclear, country, obama\n",
      "Topic 1: climate, change, warming, global, working, changed, cold, called, state, weather\n",
      "Topic 2: climate, change, warming, global, work, anymore, changed, world, freezing, let\n",
      "Topic 3: global, warming, ice, record, people, freezing, cold, snow, coldest, country\n",
      "Topic 4: warming, global, cold, change, climate, hell, need, new, freezing, country\n"
     ]
    }
   ],
   "source": [
    "text_data = president_df['message'].dropna().astype(str)\n",
    "\n",
    "vectorizer = CountVectorizer(\n",
    "    max_df=0.95,  \n",
    "    min_df=2,    \n",
    "    stop_words='english'  \n",
    ")\n",
    "text_vectors = vectorizer.fit_transform(text_data)\n",
    "\n",
    "num_topics = 5 \n",
    "lda = LatentDirichletAllocation(n_components=num_topics, random_state=42)\n",
    "lda.fit(text_vectors)\n",
    "\n",
    "def get_top_words(model, feature_names, n_top_words):\n",
    "    topics = {}\n",
    "    for topic_idx, topic in enumerate(model.components_):\n",
    "        top_words = [feature_names[i] for i in topic.argsort()[:-n_top_words - 1:-1]]\n",
    "        topics[topic_idx] = ', '.join(top_words)  \n",
    "    return topics\n",
    "\n",
    "n_top_words = 10\n",
    "feature_names = vectorizer.get_feature_names_out()\n",
    "topics = get_top_words(lda, feature_names, n_top_words)\n",
    "\n",
    "print(\"Discovered Topics:\")\n",
    "for topic_idx, words in topics.items():\n",
    "    print(f\"Topic {topic_idx}: {words}\")\n",
    "\n",
    "topic_probabilities = lda.transform(text_vectors)  \n",
    "topic_assignments = topic_probabilities.argmax(axis=1) \n",
    "\n",
    "topic_labels = [topics[topic_idx] for topic_idx in topic_assignments]\n",
    "\n",
    "filtered_df = president_df.loc[president_df['message'].notna()].copy()\n",
    "filtered_df['dominant_topic'] = topic_labels  \n",
    "filtered_df['topic_probability'] = topic_probabilities.max(axis=1)\n",
    "\n",
    "president_df = pd.concat([president_df, filtered_df[['dominant_topic', 'topic_probability']]], axis=1)\n",
    "\n",
    "output_file = \"../Data/processed-data/President_final.csv\"\n",
    "president_df.to_csv(output_file, index=False)"
   ]
  },
  {
   "cell_type": "markdown",
   "metadata": {},
   "source": [
    "I now have two new CSV files saved. I will do analysis in another file because I will be switching to R."
   ]
  }
 ],
 "metadata": {
  "kernelspec": {
   "display_name": "climate",
   "language": "python",
   "name": "python3"
  },
  "language_info": {
   "codemirror_mode": {
    "name": "ipython",
    "version": 3
   },
   "file_extension": ".py",
   "mimetype": "text/x-python",
   "name": "python",
   "nbconvert_exporter": "python",
   "pygments_lexer": "ipython3",
   "version": "3.11.8"
  }
 },
 "nbformat": 4,
 "nbformat_minor": 2
}
